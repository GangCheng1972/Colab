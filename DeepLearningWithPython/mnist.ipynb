{
  "nbformat": 4,
  "nbformat_minor": 0,
  "metadata": {
    "colab": {
      "name": "mnist.ipynb",
      "provenance": [],
      "collapsed_sections": [],
      "authorship_tag": "ABX9TyNofBjZsG8mjYprMfP0Y7Bw",
      "include_colab_link": true
    },
    "kernelspec": {
      "name": "python3",
      "display_name": "Python 3"
    }
  },
  "cells": [
    {
      "cell_type": "markdown",
      "metadata": {
        "id": "view-in-github",
        "colab_type": "text"
      },
      "source": [
        "<a href=\"https://colab.research.google.com/github/GangCheng1972/Colab/blob/master/DeepLearningWithPython/mnist.ipynb\" target=\"_parent\"><img src=\"https://colab.research.google.com/assets/colab-badge.svg\" alt=\"Open In Colab\"/></a>"
      ]
    },
    {
      "cell_type": "markdown",
      "metadata": {
        "id": "bz44EDUVptrJ",
        "colab_type": "text"
      },
      "source": [
        "The MNIST dataset comes preloaded in Keras, in the form of a set of four Numpy arrays."
      ]
    },
    {
      "cell_type": "code",
      "metadata": {
        "id": "fSDT05OsSu8T",
        "colab_type": "code",
        "colab": {
          "base_uri": "https://localhost:8080/",
          "height": 86
        },
        "outputId": "74c322dd-2ca4-4e60-f094-cf68bb4090b7"
      },
      "source": [
        "import tensorflow as tf\n",
        "from keras.datasets import mnist\n",
        "\n",
        "# load dataset\n",
        "(train_images, train_labels), (test_images, test_labels) = mnist.load_data()\n",
        "\n",
        "# observe the shape of datasets\n",
        "print('The training_images has the shape as {0}, the rank of {1} and the type as {2}.'\n",
        "      .format(train_images.shape, train_images.ndim, train_images.dtype))\n",
        "print('The training_labels has the shape as {0}, the rank of {1} and the type as {2}.'\n",
        "      .format(train_labels.shape, train_labels.ndim, train_labels.dtype))\n",
        "print('The test_images has the shape as {0}, the rank of {1} and the type as {2}.'\n",
        "      .format(test_images.shape, test_images.ndim, test_images.dtype))\n",
        "print('The test_labels has the shape as {0}, the rank of {1} and the type as {2}.'\n",
        "      .format(test_labels.shape, test_labels.ndim, test_labels.dtype))"
      ],
      "execution_count": 19,
      "outputs": [
        {
          "output_type": "stream",
          "text": [
            "The training_images has the shape as (60000, 28, 28), the rank of 3 and the type as uint8.\n",
            "The training_labels has the shape as (60000,), the rank of 1 and the type as uint8.\n",
            "The test_images has the shape as (10000, 28, 28), the rank of 3 and the type as uint8.\n",
            "The test_labels has the shape as (10000,), the rank of 1 and the type as uint8.\n"
          ],
          "name": "stdout"
        }
      ]
    },
    {
      "cell_type": "markdown",
      "metadata": {
        "id": "6Fs-Uw3jyxXB",
        "colab_type": "text"
      },
      "source": [
        "Let’s display the fifth digit in this 3D tensor, using the library Matplotlib.first"
      ]
    },
    {
      "cell_type": "code",
      "metadata": {
        "id": "YiZzKvOfyuti",
        "colab_type": "code",
        "colab": {
          "base_uri": "https://localhost:8080/",
          "height": 265
        },
        "outputId": "ddba26a4-fbd3-4d72-b885-85fa046a0957"
      },
      "source": [
        "digit = train_images[0]\n",
        "\n",
        "import matplotlib.pyplot as plt\n",
        "plt.imshow(digit, cmap=plt.cm.binary)\n",
        "plt.show()"
      ],
      "execution_count": 21,
      "outputs": [
        {
          "output_type": "display_data",
          "data": {
            "image/png": "[encoded data removed]",
            "text/plain": [
              "<Figure size 432x288 with 1 Axes>"
            ]
          },
          "metadata": {
            "tags": [],
            "needs_background": "light"
          }
        }
      ]
    },
    {
      "cell_type": "markdown",
      "metadata": {
        "id": "_BaiNKjjqf_W",
        "colab_type": "text"
      },
      "source": [
        "Before training, we’ll preprocess the data by reshaping it into the shape the network expects and scaling it so that all values are in the [0, 1] interval. Previously, our training images, for instance, were stored in an array of shape (60000, 28, 28) of type uint8 with values in the [0, 255] interval. We transform it into a float32 array of shape (60000, 28 * 28) with values between 0 and 1."
      ]
    },
    {
      "cell_type": "code",
      "metadata": {
        "id": "NaTEVXiPqi4Y",
        "colab_type": "code",
        "colab": {}
      },
      "source": [
        "train_images = train_images.reshape((60000, 28*28))\n",
        "train_images = train_images.astype('float32') / 255.0\n",
        "test_images = test_images.reshape((10000, -1))\n",
        "test_images = test_images.astype('float32') / 255.0"
      ],
      "execution_count": 0,
      "outputs": []
    },
    {
      "cell_type": "markdown",
      "metadata": {
        "id": "jEdnX1-Frss_",
        "colab_type": "text"
      },
      "source": [
        "We also need to categorically encode the labels,"
      ]
    },
    {
      "cell_type": "code",
      "metadata": {
        "id": "LwZ-OhIxrt1t",
        "colab_type": "code",
        "colab": {
          "base_uri": "https://localhost:8080/",
          "height": 52
        },
        "outputId": "a70a9d73-e47d-4d6a-d015-2c692d7b3e61"
      },
      "source": [
        "from keras.utils import to_categorical\n",
        "\n",
        "print(train_labels.shape)\n",
        "\n",
        "train_labels = to_categorical(train_labels)\n",
        "test_labels = to_categorical(test_labels)\n",
        "\n",
        "print(train_labels.shape)"
      ],
      "execution_count": 3,
      "outputs": [
        {
          "output_type": "stream",
          "text": [
            "(60000,)\n",
            "(60000, 10)\n"
          ],
          "name": "stdout"
        }
      ]
    },
    {
      "cell_type": "markdown",
      "metadata": {
        "id": "al70414Wpdif",
        "colab_type": "text"
      },
      "source": [
        "The workflow will be as follows: First, we’ll feed the neural network the training data, train_images and train_labels. The network will then learn to associate images and labels. Finally, we’ll ask the network to produce predictions for test_images, and we’ll verify whether these predictions match the labels from test_labels."
      ]
    },
    {
      "cell_type": "markdown",
      "metadata": {
        "id": "hd3MknDRo-7P",
        "colab_type": "text"
      },
      "source": [
        "The network consists of a sequence of three Dense layers, which are densely connected (also called fully connected) neural layers. The third (and last) layer is a 10-way softmax layer, which means it will return an array of 10 probability scores (summing to 1). Each score will be the probability that the current digit image belongs to one of our 10 digit classes."
      ]
    },
    {
      "cell_type": "code",
      "metadata": {
        "id": "FmOiHD-Cnd7S",
        "colab_type": "code",
        "colab": {}
      },
      "source": [
        "from keras import models\n",
        "from keras import layers\n",
        "\n",
        "network = models.Sequential()\n",
        "network.add(layers.Dense(512, activation='relu', input_shape=(28 * 28,)))\n",
        "network.add(layers.Dense(128, activation='relu'))\n",
        "network.add(layers.Dense(10, activation='softmax'))"
      ],
      "execution_count": 0,
      "outputs": []
    },
    {
      "cell_type": "markdown",
      "metadata": {
        "id": "Ck-LGO7XoTaL",
        "colab_type": "text"
      },
      "source": [
        "**A loss function** — How the network will be able to measure its performance on the training data, and thus how it will be able to steer itself in the right direction.\n",
        "\n",
        "**An optimizer** — The mechanism through which the network will update itself based on the data it sees and its loss function.\n",
        "\n",
        "**Metrics to monitor during training and testing** — Here, we’ll only care about accuracy (the fraction of the images that were correctly classified). "
      ]
    },
    {
      "cell_type": "code",
      "metadata": {
        "id": "VmPrP0OHo1jQ",
        "colab_type": "code",
        "colab": {}
      },
      "source": [
        "network.compile(optimizer='rmsprop',\n",
        "                loss='categorical_crossentropy',\n",
        "                metrics=['accuracy'])"
      ],
      "execution_count": 0,
      "outputs": []
    },
    {
      "cell_type": "markdown",
      "metadata": {
        "id": "-m60CkG8sNiW",
        "colab_type": "text"
      },
      "source": [
        "We’re now ready to train the network, which in Keras is done via a call to the network’s fit method—we fit the model to its training data:"
      ]
    },
    {
      "cell_type": "code",
      "metadata": {
        "id": "0EtkIcaasPnb",
        "colab_type": "code",
        "colab": {
          "base_uri": "https://localhost:8080/",
          "height": 207
        },
        "outputId": "993e0255-6b1b-4184-8b9a-e6ef2bc619ed"
      },
      "source": [
        "network.fit(train_images, train_labels, epochs=5, batch_size=128)"
      ],
      "execution_count": 6,
      "outputs": [
        {
          "output_type": "stream",
          "text": [
            "Epoch 1/5\n",
            "60000/60000 [==============================] - 5s 83us/step - loss: 0.2351 - accuracy: 0.9288\n",
            "Epoch 2/5\n",
            "60000/60000 [==============================] - 5s 81us/step - loss: 0.0874 - accuracy: 0.9731\n",
            "Epoch 3/5\n",
            "60000/60000 [==============================] - 5s 81us/step - loss: 0.0571 - accuracy: 0.9826\n",
            "Epoch 4/5\n",
            "60000/60000 [==============================] - 5s 81us/step - loss: 0.0407 - accuracy: 0.9875\n",
            "Epoch 5/5\n",
            "60000/60000 [==============================] - 5s 83us/step - loss: 0.0311 - accuracy: 0.9901\n"
          ],
          "name": "stdout"
        },
        {
          "output_type": "execute_result",
          "data": {
            "text/plain": [
              "<keras.callbacks.callbacks.History at 0x7fc12f0107f0>"
            ]
          },
          "metadata": {
            "tags": []
          },
          "execution_count": 6
        }
      ]
    },
    {
      "cell_type": "markdown",
      "metadata": {
        "id": "qPI6ULUIs1Aq",
        "colab_type": "text"
      },
      "source": [
        "Now let’s check that the model performs well on the test set. This gap between training accuracy and test accuracy is an example of **overfitting**:"
      ]
    },
    {
      "cell_type": "code",
      "metadata": {
        "id": "Qm0uLdYOsw-T",
        "colab_type": "code",
        "colab": {
          "base_uri": "https://localhost:8080/",
          "height": 52
        },
        "outputId": "1a273390-8d64-40ab-e636-a6a3f3d07eaa"
      },
      "source": [
        "test_loss, test_acc = network.evaluate(test_images, test_labels)\n",
        "print('test_acc:', test_acc)"
      ],
      "execution_count": 7,
      "outputs": [
        {
          "output_type": "stream",
          "text": [
            "10000/10000 [==============================] - 1s 50us/step\n",
            "test_acc: 0.9781000018119812\n"
          ],
          "name": "stdout"
        }
      ]
    }
  ]
}