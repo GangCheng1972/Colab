{
  "nbformat": 4,
  "nbformat_minor": 0,
  "metadata": {
    "colab": {
      "name": "LearningPythonBasics.ipynb",
      "provenance": [],
      "collapsed_sections": [],
      "authorship_tag": "ABX9TyNB07ma8NcCIEcj4fdeKH6F",
      "include_colab_link": true
    },
    "kernelspec": {
      "name": "python3",
      "display_name": "Python 3"
    }
  },
  "cells": [
    {
      "cell_type": "markdown",
      "metadata": {
        "id": "view-in-github",
        "colab_type": "text"
      },
      "source": [
        "<a href=\"https://colab.research.google.com/github/GangCheng1972/Colab/blob/master/Python/LearningPythonBasics.ipynb\" target=\"_parent\"><img src=\"https://colab.research.google.com/assets/colab-badge.svg\" alt=\"Open In Colab\"/></a>"
      ]
    },
    {
      "cell_type": "code",
      "metadata": {
        "id": "CIT009ykoFMn",
        "colab_type": "code",
        "outputId": "1128c866-8b1f-4de1-d831-aaaab446f519",
        "colab": {
          "base_uri": "https://localhost:8080/",
          "height": 69
        }
      },
      "source": [
        "name = input(\"Enter your name: \")\n",
        "age = input(\"Enter your age: \")\n",
        "print(\"Hello \" + name + \" ! You are \" + age)"
      ],
      "execution_count": 0,
      "outputs": [
        {
          "output_type": "stream",
          "text": [
            "Enter your name: John\n",
            "Enter your age: 35\n",
            "Hello John ! You are 35\n"
          ],
          "name": "stdout"
        }
      ]
    },
    {
      "cell_type": "code",
      "metadata": {
        "id": "POS1oOKmp24j",
        "colab_type": "code",
        "outputId": "f18f7bbc-2e56-4870-c436-525c7791740e",
        "colab": {
          "base_uri": "https://localhost:8080/",
          "height": 69
        }
      },
      "source": [
        "# Build a simple calculator\n",
        "num_1 = input(\"Enter a number: \")\n",
        "num_2 = input(\"Enter another number: \")\n",
        "\n",
        "result = float(num_1) + float(num_2)\n",
        "print(result)"
      ],
      "execution_count": 0,
      "outputs": [
        {
          "output_type": "stream",
          "text": [
            "Enter a number: 4.5\n",
            "Enter another number: 3.67\n",
            "8.17\n"
          ],
          "name": "stdout"
        }
      ]
    },
    {
      "cell_type": "code",
      "metadata": {
        "id": "30-3JyYVrhAg",
        "colab_type": "code",
        "outputId": "73dd4bfe-c196-4eec-a1b3-07737a8a7007",
        "colab": {
          "base_uri": "https://localhost:8080/",
          "height": 121
        }
      },
      "source": [
        "color = input(\"Enter a color: \")\n",
        "plural_noun = input(\"Enter a Plural Noun: \")\n",
        "celebrity = input(\"Enter a celebrity: \")\n",
        "\n",
        "print(\"Rose are \" + color)\n",
        "print(plural_noun + \" are blue\")\n",
        "print(\"I love \" + celebrity)"
      ],
      "execution_count": 0,
      "outputs": [
        {
          "output_type": "stream",
          "text": [
            "Enter a color: blue\n",
            "Enter a Plural Noun: John\n",
            "Enter a celebrity: Chris\n",
            "Rose are blue\n",
            "John are blue\n",
            "I love Chris\n"
          ],
          "name": "stdout"
        }
      ]
    },
    {
      "cell_type": "code",
      "metadata": {
        "id": "K6f4JQr2tDSa",
        "colab_type": "code",
        "outputId": "15890fce-bf77-40b9-89d3-b6c3dea860a6",
        "colab": {
          "base_uri": "https://localhost:8080/",
          "height": 34
        }
      },
      "source": [
        "friends = [\"Kevin\", \"Karen\", \"Jim\", \"Oscar\", \"Jim\", \"Toby\"]\n",
        "lucky_numbers = [4, 8, 15, 16, 23, 11]\n",
        "\n",
        "friends.append(\"Creed\")\n",
        "friends.insert(1, \"Kelly\")\n",
        "\n",
        "friends.sort()\n",
        "lucky_numbers.reverse()\n",
        "\n",
        "friends2 = friends.copy()\n",
        "\n",
        "print(friends2)"
      ],
      "execution_count": 0,
      "outputs": [
        {
          "output_type": "stream",
          "text": [
            "['Creed', 'Jim', 'Jim', 'Karen', 'Kelly', 'Kevin', 'Oscar', 'Toby']\n"
          ],
          "name": "stdout"
        }
      ]
    },
    {
      "cell_type": "code",
      "metadata": {
        "id": "y2WevVesyr7B",
        "colab_type": "code",
        "outputId": "167b78bf-3f8b-4c24-e201-a8b37d7feae2",
        "colab": {
          "base_uri": "https://localhost:8080/",
          "height": 34
        }
      },
      "source": [
        "coordinates  = [(4, 5) , (6, 7), (8, 9)]\n",
        "print(coordinates[1])"
      ],
      "execution_count": 0,
      "outputs": [
        {
          "output_type": "stream",
          "text": [
            "(6, 7)\n"
          ],
          "name": "stdout"
        }
      ]
    },
    {
      "cell_type": "code",
      "metadata": {
        "id": "2gx9seS-z5q1",
        "colab_type": "code",
        "outputId": "a840698a-a8ee-41f7-d27f-e8df0e1c6b38",
        "colab": {
          "base_uri": "https://localhost:8080/",
          "height": 52
        }
      },
      "source": [
        "def say_hi(name):\n",
        "  print(\"Hello \" + name)\n",
        "\n",
        "say_hi(\"John\")\n",
        "say_hi(\"Steve\")"
      ],
      "execution_count": 0,
      "outputs": [
        {
          "output_type": "stream",
          "text": [
            "Hello John\n",
            "Hello Steve\n"
          ],
          "name": "stdout"
        }
      ]
    },
    {
      "cell_type": "code",
      "metadata": {
        "id": "CrHtlyRO2Np-",
        "colab_type": "code",
        "outputId": "4f7840f8-d91b-42e1-e179-d36f3bae1cb8",
        "colab": {
          "base_uri": "https://localhost:8080/",
          "height": 34
        }
      },
      "source": [
        "def cube(num):\n",
        "  result = num*num*num\n",
        "  return result\n",
        "\n",
        "result = cube(123)\n",
        "print(result)\n"
      ],
      "execution_count": 0,
      "outputs": [
        {
          "output_type": "stream",
          "text": [
            "1860867\n"
          ],
          "name": "stdout"
        }
      ]
    },
    {
      "cell_type": "code",
      "metadata": {
        "id": "gpf1QhG03j-z",
        "colab_type": "code",
        "outputId": "c50dde50-a832-4d18-a122-caf09aaa136c",
        "colab": {
          "base_uri": "https://localhost:8080/",
          "height": 34
        }
      },
      "source": [
        "is_male = True\n",
        "is_tall = False\n",
        "\n",
        "if is_male and is_tall:\n",
        "  print(\"You are a tall male\")\n",
        "elif is_male and not(is_tall):\n",
        "  print(\"YOu are a short male\")\n",
        "elif not(is_male) and is_tall:\n",
        "  print(\"You are a tall female\")\n",
        "else:\n",
        "  print(\"You are a female\")\n",
        "\n"
      ],
      "execution_count": 0,
      "outputs": [
        {
          "output_type": "stream",
          "text": [
            "YOu are a short male\n"
          ],
          "name": "stdout"
        }
      ]
    },
    {
      "cell_type": "code",
      "metadata": {
        "id": "eAHXb9vQD_au",
        "colab_type": "code",
        "outputId": "0091fd7c-ae69-415d-e917-438d59457cf9",
        "colab": {
          "base_uri": "https://localhost:8080/",
          "height": 34
        }
      },
      "source": [
        "def max_num(num1, num2, num3):\n",
        "  if num1>=num2 and num1>=num3:\n",
        "    return num1\n",
        "  elif num2>=num1 and num2>=num3:\n",
        "    return num2\n",
        "  else:\n",
        "    return num3\n",
        "\n",
        "print(max_num(3,24,15)) "
      ],
      "execution_count": 0,
      "outputs": [
        {
          "output_type": "stream",
          "text": [
            "24\n"
          ],
          "name": "stdout"
        }
      ]
    },
    {
      "cell_type": "code",
      "metadata": {
        "id": "4XgAhAEkFcL3",
        "colab_type": "code",
        "outputId": "f09763ac-d154-4bf2-8e47-10f7f583893a",
        "colab": {
          "base_uri": "https://localhost:8080/",
          "height": 86
        }
      },
      "source": [
        "num1 = float(input(\"Enter the first number: \"))\n",
        "op = input(\"Enter the operator: \")\n",
        "num2 = float(input(\"Enter the second number: \"))\n",
        "\n",
        "if op == \"+\":\n",
        "  print(num1 + num2)\n",
        "elif op == \"-\":\n",
        "  print(num1 - num2)\n",
        "elif op == \"/\":\n",
        "  print(num1 / num2)\n",
        "elif op == \"*\":\n",
        "  print(num1 * num2)\n",
        "else:\n",
        "  print(\"Invalid operator\")\n"
      ],
      "execution_count": 0,
      "outputs": [
        {
          "output_type": "stream",
          "text": [
            "Enter the first number: 10\n",
            "Enter the operator: /\n",
            "Enter the second number: 3\n",
            "3.3333333333333335\n"
          ],
          "name": "stdout"
        }
      ]
    },
    {
      "cell_type": "code",
      "metadata": {
        "id": "s8wCpgiEG_mr",
        "colab_type": "code",
        "outputId": "fcf6011f-e6f0-42d0-d386-b1711859e1e7",
        "colab": {
          "base_uri": "https://localhost:8080/",
          "height": 34
        }
      },
      "source": [
        "monthConversions = {\n",
        "    \"Jan\": \"January\",\n",
        "    \"Feb\": \"February\",\n",
        "    \"Mar\": \"March\",\n",
        "    \"Apr\": \"April\",\n",
        "    \"May\": \"May\",\n",
        "    \"Jun\": \"June\",\n",
        "    \"Jul\": \"July\",\n",
        "    \"Aug\": \"August\",\n",
        "    \"Sep\": \"September\",\n",
        "    \"Oct\": \"October\",\n",
        "    \"Nov\": \"November\",\n",
        "    \"Dec\": \"December\",\n",
        "}\n",
        "\n",
        "print(monthConversions.get(\"lov\", \"Not a valid key\"))"
      ],
      "execution_count": 0,
      "outputs": [
        {
          "output_type": "stream",
          "text": [
            "Not a valid key\n"
          ],
          "name": "stdout"
        }
      ]
    },
    {
      "cell_type": "code",
      "metadata": {
        "id": "Oj2kZ8JIJpan",
        "colab_type": "code",
        "outputId": "d5753266-62a7-4f6f-8bcf-2361869d11cc",
        "colab": {
          "base_uri": "https://localhost:8080/",
          "height": 207
        }
      },
      "source": [
        "i = 1\n",
        "\n",
        "while i <= 10:\n",
        "  print(i)\n",
        "  i += 1\n",
        "\n",
        "print(\"Finish the looping\")"
      ],
      "execution_count": 0,
      "outputs": [
        {
          "output_type": "stream",
          "text": [
            "1\n",
            "2\n",
            "3\n",
            "4\n",
            "5\n",
            "6\n",
            "7\n",
            "8\n",
            "9\n",
            "10\n",
            "Finish the looping\n"
          ],
          "name": "stdout"
        }
      ]
    },
    {
      "cell_type": "code",
      "metadata": {
        "id": "8Vp8nE1iafcG",
        "colab_type": "code",
        "outputId": "6431ed6b-4a8a-41d1-a76b-f2f2c49be6e4",
        "colab": {
          "base_uri": "https://localhost:8080/",
          "height": 86
        }
      },
      "source": [
        "secret_word = \"giraffe\"\n",
        "guess = \"\"\n",
        "guess_count = 0\n",
        "guess_limit = 3\n",
        "out_of_guesses = False\n",
        "\n",
        "while guess != secret_word and not(out_of_guesses):\n",
        "  if guess_count < guess_limit:\n",
        "    guess = input(\"Enter the guess: \")\n",
        "    guess_count += 1\n",
        "  else:\n",
        "    out_of_guesses = True\n",
        "\n",
        "if out_of_guesses:\n",
        "  print(\"Out of guesses, YOU LOSE!\")\n",
        "else:\n",
        "  print(\"You win!\")"
      ],
      "execution_count": 0,
      "outputs": [
        {
          "output_type": "stream",
          "text": [
            "Enter the guess: sdf\n",
            "Enter the guess: sdf\n",
            "Enter the guess: giraffe\n",
            "You win!\n"
          ],
          "name": "stdout"
        }
      ]
    },
    {
      "cell_type": "code",
      "metadata": {
        "id": "EAsF3UmTdZOi",
        "colab_type": "code",
        "outputId": "31a92a7a-6fc6-47be-b740-c779b7ca4960",
        "colab": {
          "base_uri": "https://localhost:8080/",
          "height": 121
        }
      },
      "source": [
        "friends = [\"Jim\", \"Kevin\", \"Karen\"]\n",
        "for friend in friends:\n",
        "  print(friend)\n",
        "\n",
        "for index in range(len(friends)):\n",
        "  print(friends[index])"
      ],
      "execution_count": 0,
      "outputs": [
        {
          "output_type": "stream",
          "text": [
            "Jim\n",
            "Kevin\n",
            "Karen\n",
            "Jim\n",
            "Kevin\n",
            "Karen\n"
          ],
          "name": "stdout"
        }
      ]
    },
    {
      "cell_type": "code",
      "metadata": {
        "id": "6T_hqKHcgpSY",
        "colab_type": "code",
        "outputId": "984e3604-6345-417f-ec25-c5a3933db808",
        "colab": {
          "base_uri": "https://localhost:8080/",
          "height": 34
        }
      },
      "source": [
        "def raise_to_power(base_num, power_num):\n",
        "  result = 1\n",
        "  for index in range(power_num):\n",
        "    result *= base_num\n",
        "  return result\n",
        "\n",
        "print(raise_to_power(4,3))"
      ],
      "execution_count": 0,
      "outputs": [
        {
          "output_type": "stream",
          "text": [
            "64\n"
          ],
          "name": "stdout"
        }
      ]
    },
    {
      "cell_type": "code",
      "metadata": {
        "id": "CgZrZ9sTlXxX",
        "colab_type": "code",
        "outputId": "7d533b51-b9f4-428f-d0a4-0de450282153",
        "colab": {
          "base_uri": "https://localhost:8080/",
          "height": 190
        }
      },
      "source": [
        "number_grid = [\n",
        "    [1,2,3],\n",
        "    [4,5,6],\n",
        "    [7,8,9],\n",
        "    [0]\n",
        "]\n",
        "\n",
        "for row in number_grid:\n",
        "  for col in row:\n",
        "    print(col)"
      ],
      "execution_count": 0,
      "outputs": [
        {
          "output_type": "stream",
          "text": [
            "1\n",
            "2\n",
            "3\n",
            "4\n",
            "5\n",
            "6\n",
            "7\n",
            "8\n",
            "9\n",
            "0\n"
          ],
          "name": "stdout"
        }
      ]
    },
    {
      "cell_type": "code",
      "metadata": {
        "id": "MTpp-2KDmkjM",
        "colab_type": "code",
        "outputId": "6a721d68-e3f9-4de6-d0ec-3533bfeb5eb9",
        "colab": {
          "base_uri": "https://localhost:8080/",
          "height": 52
        }
      },
      "source": [
        "def translate(phrase):\n",
        "  translation = \"\"\n",
        "  for letter in phrase:\n",
        "    if letter.lower() in \"aeiou\":\n",
        "      if letter.isupper():\n",
        "        translation += \"G\"\n",
        "      else:\n",
        "        translation += \"g\"\n",
        "    else:\n",
        "      translation += letter\n",
        "  return translation\n",
        "\n",
        "print(translate(input(\"Enter a phrase: \")))"
      ],
      "execution_count": 0,
      "outputs": [
        {
          "output_type": "stream",
          "text": [
            "Enter a phrase: Test\n",
            "Tgst\n"
          ],
          "name": "stdout"
        }
      ]
    },
    {
      "cell_type": "code",
      "metadata": {
        "id": "1XgTiCeOekrI",
        "colab_type": "code",
        "outputId": "151e4791-fff2-4799-b5d3-0e1870fd6dda",
        "colab": {
          "base_uri": "https://localhost:8080/",
          "height": 34
        }
      },
      "source": [
        "class Student:\n",
        "\n",
        "  def __init__(self, name, major, gpa, is_on_probation):\n",
        "    self.name = name\n",
        "    self.major = major\n",
        "    self.gpa = gpa\n",
        "    self.is_on_probation = is_on_probation\n",
        "\n",
        "  def on_honor_roll(self):\n",
        "    if self.gpa >= 3.5:\n",
        "      return True\n",
        "    else:\n",
        "      return False\n",
        "\n",
        "student1 = Student(\"Jim\", \"Business\", 3.1, False)\n",
        "student2 = Student(\"Kim\", \"Art\", 3.5, True)\n",
        "print(student2.on_honor_roll())\n"
      ],
      "execution_count": 0,
      "outputs": [
        {
          "output_type": "stream",
          "text": [
            "True\n"
          ],
          "name": "stdout"
        }
      ]
    },
    {
      "cell_type": "code",
      "metadata": {
        "id": "enaVL3Csi7rF",
        "colab_type": "code",
        "outputId": "8ff4306f-48e9-4ec6-9a5d-d3028e855f29",
        "colab": {
          "base_uri": "https://localhost:8080/",
          "height": 138
        }
      },
      "source": [
        "!python - version"
      ],
      "execution_count": 2,
      "outputs": [
        {
          "output_type": "stream",
          "text": [
            "Python 3.6.9 (default, Nov  7 2019, 10:44:02) \n",
            "[GCC 8.3.0] on linux\n",
            "Type \"help\", \"copyright\", \"credits\" or \"license\" for more information.\n",
            ">>> \n",
            "\n",
            "KeyboardInterrupt\n",
            ">>> exit()\n"
          ],
          "name": "stdout"
        }
      ]
    }
  ]
}