{
  "nbformat": 4,
  "nbformat_minor": 0,
  "metadata": {
    "colab": {
      "name": "mnist2.ipynb",
      "provenance": [],
      "collapsed_sections": [],
      "authorship_tag": "ABX9TyM6rV0xWzxXim5NukKxvigm",
      "include_colab_link": true
    },
    "kernelspec": {
      "name": "python3",
      "display_name": "Python 3"
    },
    "accelerator": "GPU"
  },
  "cells": [
    {
      "cell_type": "markdown",
      "metadata": {
        "id": "view-in-github",
        "colab_type": "text"
      },
      "source": [
        "<a href=\"https://colab.research.google.com/github/GangCheng1972/Colab/blob/master/DeepLearingWithPython/mnist2.ipynb\" target=\"_parent\"><img src=\"https://colab.research.google.com/assets/colab-badge.svg\" alt=\"Open In Colab\"/></a>"
      ]
    },
    {
      "cell_type": "markdown",
      "metadata": {
        "id": "bz44EDUVptrJ",
        "colab_type": "text"
      },
      "source": [
        "The MNIST dataset comes preloaded in Keras, in the form of a set of four Numpy arrays."
      ]
    },
    {
      "cell_type": "code",
      "metadata": {
        "id": "fSDT05OsSu8T",
        "colab_type": "code",
        "outputId": "db884fd0-a466-4e08-a032-491a93dbda72",
        "colab": {
          "base_uri": "https://localhost:8080/",
          "height": 104
        }
      },
      "source": [
        "import tensorflow as tf\n",
        "from keras.datasets import mnist\n",
        "\n",
        "# load dataset\n",
        "(train_images, train_labels), (test_images, test_labels) = mnist.load_data()\n",
        "\n",
        "# observe the shape of datasets\n",
        "print('The training_images has the shape as {0}, the rank of {1} and the type as {2}.'\n",
        "      .format(train_images.shape, train_images.ndim, train_images.dtype))\n",
        "print('The training_labels has the shape as {0}, the rank of {1} and the type as {2}.'\n",
        "      .format(train_labels.shape, train_labels.ndim, train_labels.dtype))\n",
        "print('The test_images has the shape as {0}, the rank of {1} and the type as {2}.'\n",
        "      .format(test_images.shape, test_images.ndim, test_images.dtype))\n",
        "print('The test_labels has the shape as {0}, the rank of {1} and the type as {2}.'\n",
        "      .format(test_labels.shape, test_labels.ndim, test_labels.dtype))"
      ],
      "execution_count": 1,
      "outputs": [
        {
          "output_type": "stream",
          "text": [
            "Using TensorFlow backend.\n"
          ],
          "name": "stderr"
        },
        {
          "output_type": "stream",
          "text": [
            "The training_images has the shape as (60000, 28, 28), the rank of 3 and the type as uint8.\n",
            "The training_labels has the shape as (60000,), the rank of 1 and the type as uint8.\n",
            "The test_images has the shape as (10000, 28, 28), the rank of 3 and the type as uint8.\n",
            "The test_labels has the shape as (10000,), the rank of 1 and the type as uint8.\n"
          ],
          "name": "stdout"
        }
      ]
    },
    {
      "cell_type": "markdown",
      "metadata": {
        "id": "6Fs-Uw3jyxXB",
        "colab_type": "text"
      },
      "source": [
        "Let’s display the fifth digit in this 3D tensor, using the library Matplotlib.first"
      ]
    },
    {
      "cell_type": "code",
      "metadata": {
        "id": "YiZzKvOfyuti",
        "colab_type": "code",
        "outputId": "e0db34b2-d86d-440c-ca99-33535c1250cc",
        "colab": {
          "base_uri": "https://localhost:8080/",
          "height": 265
        }
      },
      "source": [
        "digit = train_images[0]\n",
        "\n",
        "import matplotlib.pyplot as plt\n",
        "plt.imshow(digit, cmap=plt.cm.binary)\n",
        "plt.show()"
      ],
      "execution_count": 2,
      "outputs": [
        {
          "output_type": "display_data",
          "data": {
            "image/png": "[encoded data removed]",
            "text/plain": [
              "<Figure size 432x288 with 1 Axes>"
            ]
          },
          "metadata": {
            "tags": [],
            "needs_background": "light"
          }
        }
      ]
    },
    {
      "cell_type": "markdown",
      "metadata": {
        "id": "_BaiNKjjqf_W",
        "colab_type": "text"
      },
      "source": [
        "Before training, we’ll preprocess the data by reshaping it into the shape the convnet network expects and scaling it so that all values are in the [0, 1] interval. Previously, our training images, for instance, were stored in an array of shape (60000, 28, 28) of type uint8 with values in the [0, 255] interval. We transform it into a float32 array of shape (60000, 28, 28, 1) with values between 0 and 1."
      ]
    },
    {
      "cell_type": "code",
      "metadata": {
        "id": "NaTEVXiPqi4Y",
        "colab_type": "code",
        "colab": {}
      },
      "source": [
        "train_images = train_images.reshape((60000, 28, 28, 1))\n",
        "train_images = train_images.astype('float32') / 255\n",
        "\n",
        "test_images = test_images.reshape((10000, 28, 28, 1))\n",
        "test_images = test_images.astype('float32') / 255"
      ],
      "execution_count": 0,
      "outputs": []
    },
    {
      "cell_type": "markdown",
      "metadata": {
        "id": "jEdnX1-Frss_",
        "colab_type": "text"
      },
      "source": [
        "We also need to categorically encode the labels,"
      ]
    },
    {
      "cell_type": "code",
      "metadata": {
        "id": "LwZ-OhIxrt1t",
        "colab_type": "code",
        "outputId": "1e15b255-6ceb-45db-c788-a492e976e14e",
        "colab": {
          "base_uri": "https://localhost:8080/",
          "height": 52
        }
      },
      "source": [
        "from keras.utils import to_categorical\n",
        "\n",
        "print(train_labels.shape)\n",
        "\n",
        "train_labels = to_categorical(train_labels)\n",
        "test_labels = to_categorical(test_labels)\n",
        "\n",
        "print(train_labels.shape)"
      ],
      "execution_count": 4,
      "outputs": [
        {
          "output_type": "stream",
          "text": [
            "(60000,)\n",
            "(60000, 10)\n"
          ],
          "name": "stdout"
        }
      ]
    },
    {
      "cell_type": "markdown",
      "metadata": {
        "id": "al70414Wpdif",
        "colab_type": "text"
      },
      "source": [
        "The workflow will be as follows: First, we’ll feed the neural network the training data, train_images and train_labels. The network will then learn to associate images and labels. Finally, we’ll ask the network to produce predictions for test_images, and we’ll verify whether these predictions match the labels from test_labels."
      ]
    },
    {
      "cell_type": "markdown",
      "metadata": {
        "id": "hd3MknDRo-7P",
        "colab_type": "text"
      },
      "source": [
        "The following lines of code show you what a basic convnet looks like. It’s a stack of Conv2D and MaxPooling2D layers.The last layer is a 10-way softmax layer, which means it will return an array of 10 probability scores (summing to 1). Each score will be the probability that the current digit image belongs to one of our 10 digit classes."
      ]
    },
    {
      "cell_type": "code",
      "metadata": {
        "id": "FmOiHD-Cnd7S",
        "colab_type": "code",
        "colab": {
          "base_uri": "https://localhost:8080/",
          "height": 432
        },
        "outputId": "97d8d2a4-7e88-45e9-ae5f-53b6e5103226"
      },
      "source": [
        "from keras import models\n",
        "from keras import layers\n",
        "\n",
        "# The following lines of code show you what a basic convnet looks like. \n",
        "# It’s a stack of Conv2D and MaxPooling2D layers. \n",
        "model = models.Sequential()\n",
        "model.add(layers.Conv2D(32, (3, 3), activation='relu', input_shape=(28, 28, 1)))\n",
        "model.add(layers.MaxPooling2D((2, 2)))\n",
        "model.add(layers.Conv2D(64, (3, 3), activation='relu'))\n",
        "model.add(layers.MaxPooling2D((2, 2)))\n",
        "model.add(layers.Conv2D(64, (3, 3), activation='relu'))\n",
        "\n",
        "# The next step is to feed the last output tensor (of shape (3, 3, 64)) \n",
        "# into a densely connected classifier network\n",
        "model.add(layers.Flatten())\n",
        "model.add(layers.Dense(64, activation='relu'))\n",
        "model.add(layers.Dense(10, activation='softmax'))\n",
        "\n",
        "# Let’s display the architecture of the convnet\n",
        "model.summary()"
      ],
      "execution_count": 5,
      "outputs": [
        {
          "output_type": "stream",
          "text": [
            "Model: \"sequential_1\"\n",
            "_________________________________________________________________\n",
            "Layer (type)                 Output Shape              Param #   \n",
            "=================================================================\n",
            "conv2d_1 (Conv2D)            (None, 26, 26, 32)        320       \n",
            "_________________________________________________________________\n",
            "max_pooling2d_1 (MaxPooling2 (None, 13, 13, 32)        0         \n",
            "_________________________________________________________________\n",
            "conv2d_2 (Conv2D)            (None, 11, 11, 64)        18496     \n",
            "_________________________________________________________________\n",
            "max_pooling2d_2 (MaxPooling2 (None, 5, 5, 64)          0         \n",
            "_________________________________________________________________\n",
            "conv2d_3 (Conv2D)            (None, 3, 3, 64)          36928     \n",
            "_________________________________________________________________\n",
            "flatten_1 (Flatten)          (None, 576)               0         \n",
            "_________________________________________________________________\n",
            "dense_1 (Dense)              (None, 64)                36928     \n",
            "_________________________________________________________________\n",
            "dense_2 (Dense)              (None, 10)                650       \n",
            "=================================================================\n",
            "Total params: 93,322\n",
            "Trainable params: 93,322\n",
            "Non-trainable params: 0\n",
            "_________________________________________________________________\n"
          ],
          "name": "stdout"
        }
      ]
    },
    {
      "cell_type": "markdown",
      "metadata": {
        "id": "Ck-LGO7XoTaL",
        "colab_type": "text"
      },
      "source": [
        "**A loss function** — How the network will be able to measure its performance on the training data, and thus how it will be able to steer itself in the right direction.\n",
        "\n",
        "**An optimizer** — The mechanism through which the network will update itself based on the data it sees and its loss function.\n",
        "\n",
        "**Metrics to monitor during training and testing** — Here, we’ll only care about accuracy (the fraction of the images that were correctly classified). "
      ]
    },
    {
      "cell_type": "code",
      "metadata": {
        "id": "VmPrP0OHo1jQ",
        "colab_type": "code",
        "colab": {}
      },
      "source": [
        "model.compile(optimizer='rmsprop',\n",
        "                loss='categorical_crossentropy',\n",
        "                metrics=['accuracy'])\n"
      ],
      "execution_count": 0,
      "outputs": []
    },
    {
      "cell_type": "markdown",
      "metadata": {
        "id": "-m60CkG8sNiW",
        "colab_type": "text"
      },
      "source": [
        "We’re now ready to train the network, which in Keras is done via a call to the network’s fit method—we fit the model to its training data:"
      ]
    },
    {
      "cell_type": "code",
      "metadata": {
        "id": "0EtkIcaasPnb",
        "colab_type": "code",
        "outputId": "f1bcf2bd-acc0-46ce-cdac-c2ba838fce35",
        "colab": {
          "base_uri": "https://localhost:8080/",
          "height": 207
        }
      },
      "source": [
        "model.fit(train_images, train_labels, epochs=5, batch_size=128)"
      ],
      "execution_count": 7,
      "outputs": [
        {
          "output_type": "stream",
          "text": [
            "Epoch 1/5\n",
            "60000/60000 [==============================] - 4s 59us/step - loss: 0.2312 - accuracy: 0.9263\n",
            "Epoch 2/5\n",
            "60000/60000 [==============================] - 2s 35us/step - loss: 0.0560 - accuracy: 0.9827\n",
            "Epoch 3/5\n",
            "60000/60000 [==============================] - 2s 35us/step - loss: 0.0378 - accuracy: 0.9882\n",
            "Epoch 4/5\n",
            "60000/60000 [==============================] - 2s 34us/step - loss: 0.0279 - accuracy: 0.9910\n",
            "Epoch 5/5\n",
            "60000/60000 [==============================] - 2s 34us/step - loss: 0.0221 - accuracy: 0.9929\n"
          ],
          "name": "stdout"
        },
        {
          "output_type": "execute_result",
          "data": {
            "text/plain": [
              "<keras.callbacks.callbacks.History at 0x7f2c93502d30>"
            ]
          },
          "metadata": {
            "tags": []
          },
          "execution_count": 7
        }
      ]
    },
    {
      "cell_type": "markdown",
      "metadata": {
        "id": "qPI6ULUIs1Aq",
        "colab_type": "text"
      },
      "source": [
        "Now let’s check that the model performs well on the test set. This gap between training accuracy and test accuracy is an example of **overfitting**:"
      ]
    },
    {
      "cell_type": "code",
      "metadata": {
        "id": "Qm0uLdYOsw-T",
        "colab_type": "code",
        "outputId": "1ddf4f3f-1d92-4b15-8a07-5517a0c6f94a",
        "colab": {
          "base_uri": "https://localhost:8080/",
          "height": 52
        }
      },
      "source": [
        "test_loss, test_acc = model.evaluate(test_images, test_labels)\n",
        "print('test_acc:', test_acc)"
      ],
      "execution_count": 8,
      "outputs": [
        {
          "output_type": "stream",
          "text": [
            "10000/10000 [==============================] - 1s 63us/step\n",
            "test_acc: 0.9894000291824341\n"
          ],
          "name": "stdout"
        }
      ]
    }
  ]
}